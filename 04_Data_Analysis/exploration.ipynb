{
 "cells": [
  {
   "cell_type": "code",
   "execution_count": null,
   "id": "6476d277-bf53-48cf-aa3a-e04b464a2210",
   "metadata": {},
   "outputs": [],
   "source": [
    "print(\"Hello, Jupyter!\")\n"
   ]
  },
  {
   "cell_type": "code",
   "execution_count": null,
   "id": "b44efb34-4cbd-4c76-b6f5-72a076b43019",
   "metadata": {
    "scrolled": true
   },
   "outputs": [],
   "source": [
    "import pandas as pd\n",
    "\n",
    "# Load the Excel file\n",
    "df = pd.read_excel(\"mock_data.xlsx\")\n",
    "\n",
    "# Show the first 5 rows\n",
    "df.head()\n"
   ]
  },
  {
   "cell_type": "code",
   "execution_count": null,
   "id": "4c9ed9df-bb3f-4d29-9810-72757dc71b5a",
   "metadata": {},
   "outputs": [],
   "source": [
    "!pip install pandas openpyxl\n"
   ]
  },
  {
   "cell_type": "code",
   "execution_count": null,
   "id": "9371eb51-44d4-4a3f-b503-c71d90a35a70",
   "metadata": {},
   "outputs": [],
   "source": [
    "import pandas as pd\n",
    "\n",
    "df = pd.read_excel(\"mock_data.xlsx\")\n",
    "df.head()\n"
   ]
  },
  {
   "cell_type": "code",
   "execution_count": null,
   "id": "ad61566d-60bd-48d7-a948-3a9509074a67",
   "metadata": {},
   "outputs": [],
   "source": [
    "import pandas as pd\n",
    "\n",
    "df = pd.read_excel(\"mock_data.xlsx\")\n",
    "df.head()\n"
   ]
  },
  {
   "cell_type": "code",
   "execution_count": null,
   "id": "4092fd0e-e297-41f9-81f1-e8af5ccaba86",
   "metadata": {},
   "outputs": [],
   "source": [
    "import pandas as pd\n",
    "\n",
    "df = pd.read_excel(\"mock_data.xlsx\")\n",
    "df.head()\n"
   ]
  },
  {
   "cell_type": "code",
   "execution_count": null,
   "id": "347f3544-27c4-42f6-b80b-cb4108f16ac1",
   "metadata": {},
   "outputs": [],
   "source": [
    "import os\n",
    "os.getcwd()\n"
   ]
  },
  {
   "cell_type": "code",
   "execution_count": null,
   "id": "130a204e-afb5-4c3f-ad4a-f5ca6fcb28b4",
   "metadata": {},
   "outputs": [],
   "source": [
    "import pandas as pd\n",
    "\n",
    "df = pd.read_excel(\"mock_data.xlsx\")\n",
    "df.head()\n"
   ]
  },
  {
   "cell_type": "code",
   "execution_count": null,
   "id": "0dd5252f-f661-4761-a941-a66f231ec272",
   "metadata": {},
   "outputs": [],
   "source": [
    "# Check the structure of your dataset\n",
    "df.info()\n"
   ]
  },
  {
   "cell_type": "code",
   "execution_count": null,
   "id": "a4a8cc43-0dfe-4421-b0be-9d7fce397452",
   "metadata": {},
   "outputs": [],
   "source": [
    "# Attrition value counts\n",
    "print(\"Attrition Breakdown:\")\n",
    "print(df['Attrition'].value_counts())\n",
    "print(\"\\n\")\n",
    "\n",
    "# Basic statistics for numerical columns\n",
    "df.describe()\n"
   ]
  },
  {
   "cell_type": "code",
   "execution_count": null,
   "id": "5e5cdf96-74d1-43e0-92c3-144c079d0528",
   "metadata": {},
   "outputs": [],
   "source": [
    "import matplotlib.pyplot as plt\n",
    "import seaborn as sns\n",
    "\n",
    "# Set style\n",
    "sns.set(style=\"whitegrid\")\n",
    "\n",
    "# Plot: Attrition by Department\n",
    "plt.figure(figsize=(8, 5))\n",
    "sns.countplot(data=df, x='Department', hue='Attrition')\n",
    "plt.title('Attrition by Department')\n",
    "plt.xticks(rotation=45)\n",
    "plt.tight_layout()\n",
    "plt.show()\n",
    "\n",
    "# Plot: Attrition by Job Role\n",
    "plt.figure(figsize=(10, 6))\n",
    "sns.countplot(data=df, x='JobRole', hue='Attrition')\n",
    "plt.title('Attrition by Job Role')\n",
    "plt.xticks(rotation=45)\n",
    "plt.tight_layout()\n",
    "plt.show()\n"
   ]
  },
  {
   "cell_type": "code",
   "execution_count": null,
   "id": "225d8b00-e816-44cf-ba51-cba19d52add6",
   "metadata": {},
   "outputs": [],
   "source": [
    "!pip install matplotlib seaborn\n"
   ]
  },
  {
   "cell_type": "code",
   "execution_count": null,
   "id": "0ebf74b4-e5e0-4e94-abc2-47ca56646968",
   "metadata": {
    "scrolled": true
   },
   "outputs": [],
   "source": [
    "import matplotlib.pyplot as plt\n",
    "import seaborn as sns\n",
    "\n",
    "# Set style\n",
    "sns.set(style=\"whitegrid\")\n",
    "\n",
    "# Plot Attrition counts\n",
    "plt.figure(figsize=(6, 4))\n",
    "sns.countplot(data=df, x=\"Attrition\", palette=\"Set2\")\n",
    "plt.title(\"Employee Attrition Count\")\n",
    "plt.ylabel(\"Number of Employees\")\n",
    "plt.xlabel(\"Attrition\")\n",
    "plt.show()\n"
   ]
  },
  {
   "cell_type": "code",
   "execution_count": null,
   "id": "a5aee83a-688f-4bfb-ba80-bde883bb9b18",
   "metadata": {},
   "outputs": [],
   "source": [
    "plt.figure(figsize=(8, 5))\n",
    "sns.countplot(data=df, x=\"Department\", hue=\"Attrition\", palette=\"Set2\")\n",
    "plt.title(\"Attrition by Department\")\n",
    "plt.ylabel(\"Number of Employees\")\n",
    "plt.xlabel(\"Department\")\n",
    "plt.xticks(rotation=45)\n",
    "plt.legend(title=\"Attrition\")\n",
    "plt.tight_layout()\n",
    "plt.show()\n"
   ]
  },
  {
   "cell_type": "code",
   "execution_count": null,
   "id": "78e863a6-52cc-4661-a493-4157579cb33b",
   "metadata": {},
   "outputs": [],
   "source": [
    "plt.figure(figsize=(10, 6))\n",
    "sns.countplot(data=df, y=\"JobRole\", hue=\"Attrition\", palette=\"Set1\")\n",
    "plt.title(\"Attrition by Job Role\")\n",
    "plt.xlabel(\"Number of Employees\")\n",
    "plt.ylabel(\"Job Role\")\n",
    "plt.legend(title=\"Attrition\")\n",
    "plt.tight_layout()\n",
    "plt.show()\n"
   ]
  },
  {
   "cell_type": "code",
   "execution_count": null,
   "id": "ac7de5ec-c6c7-427a-827c-0af7ad00e0de",
   "metadata": {},
   "outputs": [],
   "source": [
    "plt.figure(figsize=(8, 5))\n",
    "sns.boxplot(data=df, x=\"Attrition\", y=\"DistanceFromHome\", palette=\"Set3\")\n",
    "plt.title(\"Distance From Home by Attrition Status\")\n",
    "plt.xlabel(\"Attrition\")\n",
    "plt.ylabel(\"Distance From Home (miles)\")\n",
    "plt.tight_layout()\n",
    "plt.show()\n"
   ]
  },
  {
   "cell_type": "code",
   "execution_count": null,
   "id": "9ad71507-2a74-4fde-b2c1-98083c9dc342",
   "metadata": {},
   "outputs": [],
   "source": [
    "plt.figure(figsize=(8, 5))\n",
    "sns.boxplot(data=df, x=\"Attrition\", y=\"JobSatisfaction\", palette=\"coolwarm\")\n",
    "plt.title(\"Job Satisfaction by Attrition Status\")\n",
    "plt.xlabel(\"Attrition\")\n",
    "plt.ylabel(\"Job Satisfaction (1 = Low, 4 = High)\")\n",
    "plt.tight_layout()\n",
    "plt.show()\n"
   ]
  },
  {
   "cell_type": "code",
   "execution_count": null,
   "id": "53897474-8a39-40f1-bd98-f655e9fa2e25",
   "metadata": {},
   "outputs": [],
   "source": [
    "plt.figure(figsize=(8, 5))\n",
    "sns.boxplot(data=df, x=\"Attrition\", y=\"EnvironmentSatisfaction\", palette=\"BuGn\")\n",
    "plt.title(\"Environment Satisfaction by Attrition Status\")\n",
    "plt.xlabel(\"Attrition\")\n",
    "plt.ylabel(\"Environment Satisfaction (1 = Low, 4 = High)\")\n",
    "plt.tight_layout()\n",
    "plt.show()\n"
   ]
  },
  {
   "cell_type": "code",
   "execution_count": null,
   "id": "3bb17ae1-499d-4341-84ee-cdc279769521",
   "metadata": {},
   "outputs": [],
   "source": [
    "plt.figure(figsize=(8, 5))\n",
    "sns.boxplot(data=df, x=\"Attrition\", y=\"DistanceFromHome\", palette=\"Purples\")\n",
    "plt.title(\"Distance From Home by Attrition Status\")\n",
    "plt.xlabel(\"Attrition\")\n",
    "plt.ylabel(\"Distance From Home (in miles)\")\n",
    "plt.tight_layout()\n",
    "plt.show()\n"
   ]
  },
  {
   "cell_type": "code",
   "execution_count": null,
   "id": "b461caf6-b9f3-471c-962a-ac87e0593e0d",
   "metadata": {},
   "outputs": [],
   "source": [
    "plt.figure(figsize=(8, 5))\n",
    "sns.boxplot(data=df, x=\"Attrition\", y=\"YearsAtCompany\", palette=\"Set2\")\n",
    "plt.title(\"Attrition vs. Years at Company\")\n",
    "plt.ylabel(\"Years at Company\")\n",
    "plt.xlabel(\"Attrition\")\n",
    "plt.show()\n"
   ]
  },
  {
   "cell_type": "code",
   "execution_count": null,
   "id": "3b745216-f946-47ef-b932-d766cfdef9dc",
   "metadata": {},
   "outputs": [],
   "source": []
  },
  {
   "cell_type": "code",
   "execution_count": null,
   "id": "4289e347-00d0-4fb1-b580-2af4baca8939",
   "metadata": {},
   "outputs": [],
   "source": [
    "plt.figure(figsize=(8, 5))\n",
    "sns.boxplot(data=df, x=\"Attrition\", y=\"YearsSinceLastPromotion\", palette=\"Set3\")\n",
    "plt.title(\"Attrition vs. Years Since Last Promotion\")\n",
    "plt.ylabel(\"Years Since Last Promotion\")\n",
    "plt.xlabel(\"Attrition\")\n",
    "plt.show()\n"
   ]
  },
  {
   "cell_type": "code",
   "execution_count": null,
   "id": "55ff9d92-0dc2-49ee-8538-1574f636a1b7",
   "metadata": {},
   "outputs": [],
   "source": [
    "plt.figure(figsize=(8, 5))\n",
    "sns.boxplot(data=df, x=\"Attrition\", y=\"YearsInCurrentRole\", palette=\"Set1\")\n",
    "plt.title(\"Attrition vs. Years in Current Role\")\n",
    "plt.ylabel(\"Years in Current Role\")\n",
    "plt.xlabel(\"Attrition\")\n",
    "plt.show()\n"
   ]
  },
  {
   "cell_type": "markdown",
   "id": "77af298e-fa88-47e1-a8f7-bae355d3ae43",
   "metadata": {},
   "source": [
    "## 🧠 Exploratory Data Analysis Summary\n",
    "\n",
    "Our exploratory analysis revealed clear patterns and correlations tied to employee attrition:\n",
    "\n",
    "---\n",
    "\n",
    "### ✅ Key Findings\n",
    "\n",
    "- **OverTime**: A significant number of employees who left were working overtime. This suggests workload or burnout may be a strong contributing factor.\n",
    "- **Job Satisfaction**: Attrition is noticeably higher among those with low job satisfaction, reinforcing the need for employee engagement strategies.\n",
    "- **Environment Satisfaction**: Similar to job satisfaction, a poor work environment appears to be a driver of attrition.\n",
    "- **Years at Company / In Role**: Employees who left tended to have shorter tenures, suggesting early disengagement or insufficient onboarding and growth opportunities.\n",
    "- **Distance from Home**: There is a mild skew indicating that longer commutes may be associated with higher attrition, though the trend is less pronounced.\n",
    "\n",
    "---\n",
    "\n",
    "### 📌 Strategic Implications\n",
    "\n",
    "- **Monitor and mitigate burnout**, especially for high-performing employees logging overtime hours.\n",
    "- **Invest in satisfaction levers** (e.g., manager support, flexibility, recognition programs).\n",
    "- **Re-examine onboarding and early tenure retention programs** to reduce first-3-year attrition.\n",
    "- Consider location flexibility or commute subsidies as part of **retention strategies**.\n",
    "\n",
    "---\n",
    "\n",
    "### 🔍 Next Steps\n",
    "\n",
    "- Conduct **correlation analysis** across numeric variables to validate relationships.\n",
    "- Create a **predictive model** to quantify drivers of attrition and identify at-risk employees.\n",
    "- Segment findings by **department and job role** to tailor retention strategies further.\n",
    "\n"
   ]
  },
  {
   "cell_type": "code",
   "execution_count": null,
   "id": "ec24afb7-8ba9-4890-baa8-069ba679a48a",
   "metadata": {},
   "outputs": [],
   "source": [
    "# Import libraries\n",
    "import matplotlib.pyplot as plt\n",
    "import seaborn as sns\n",
    "\n",
    "# Create correlation matrix\n",
    "corr_matrix = df.corr(numeric_only=True)\n",
    "\n",
    "# Plot heatmap\n",
    "plt.figure(figsize=(16, 10))\n",
    "sns.heatmap(corr_matrix, annot=True, fmt=\".2f\", cmap=\"coolwarm\", linewidths=0.5)\n",
    "plt.title(\"Correlation Matrix of Numeric Variables\")\n",
    "plt.show()\n"
   ]
  },
  {
   "cell_type": "code",
   "execution_count": null,
   "id": "fc92d743-0234-4e97-82c1-998b225b975f",
   "metadata": {},
   "outputs": [],
   "source": [
    "from sklearn.linear_model import LogisticRegression\n",
    "from sklearn.model_selection import train_test_split\n",
    "from sklearn.metrics import classification_report\n",
    "from sklearn.preprocessing import LabelEncoder\n",
    "\n",
    "# Encode Attrition as binary\n",
    "df_model = df.copy()\n",
    "df_model[\"Attrition\"] = LabelEncoder().fit_transform(df_model[\"Attrition\"])\n",
    "\n",
    "# Select relevant features (simplified)\n",
    "features = [\"Age\", \"MonthlyIncome\", \"OverTime\", \"DistanceFromHome\", \"JobSatisfaction\", \"EnvironmentSatisfaction\", \"YearsAtCompany\"]\n",
    "df_model = df_model[features + [\"Attrition\"]]\n",
    "\n",
    "# Encode categorical variable OverTime\n",
    "df_model[\"OverTime\"] = LabelEncoder().fit_transform(df_model[\"OverTime\"])\n",
    "\n",
    "# Split into training and test sets\n",
    "X = df_model.drop(\"Attrition\", axis=1)\n",
    "y = df_model[\"Attrition\"]\n",
    "X_train, X_test, y_train, y_test = train_test_split(X, y, test_size=0.2, random_state=42)\n",
    "\n",
    "# Fit logistic regression model\n",
    "model = LogisticRegression(max_iter=1000)\n",
    "model.fit(X_train, y_train)\n",
    "\n",
    "# Evaluate\n",
    "y_pred = model.predict(X_test)\n",
    "print(classification_report(y_test, y_pred))\n"
   ]
  },
  {
   "cell_type": "code",
   "execution_count": null,
   "id": "d4d0272f-9741-4724-8517-ae9ef2e75f79",
   "metadata": {},
   "outputs": [],
   "source": [
    "!pip install scikit-learn\n"
   ]
  },
  {
   "cell_type": "code",
   "execution_count": null,
   "id": "d5b1f913-e118-4954-a737-3d5cecd2d02c",
   "metadata": {},
   "outputs": [],
   "source": [
    "from sklearn.linear_model import LogisticRegression\n"
   ]
  },
  {
   "cell_type": "code",
   "execution_count": null,
   "id": "71a2ed6f-a8f0-4bbc-a318-3fa739beef54",
   "metadata": {},
   "outputs": [],
   "source": [
    "from sklearn.linear_model import LogisticRegression\n",
    "from sklearn.model_selection import train_test_split\n",
    "from sklearn.metrics import classification_report\n",
    "from sklearn.preprocessing import LabelEncoder\n",
    "\n",
    "# Encode Attrition as binary\n",
    "df_model = df.copy()\n",
    "df_model[\"Attrition\"] = LabelEncoder().fit_transform(df_model[\"Attrition\"])\n",
    "\n",
    "# Select relevant features (simplified)\n",
    "features = [\"Age\", \"MonthlyIncome\", \"OverTime\", \"DistanceFromHome\", \"JobSatisfaction\", \"EnvironmentSatisfaction\", \"YearsAtCompany\"]\n",
    "df_model = df_model[features + [\"Attrition\"]]\n",
    "\n",
    "# Encode categorical variable OverTime\n",
    "df_model[\"OverTime\"] = LabelEncoder().fit_transform(df_model[\"OverTime\"])\n",
    "\n",
    "# Split into training and test sets\n",
    "X = df_model.drop(\"Attrition\", axis=1)\n",
    "y = df_model[\"Attrition\"]\n",
    "X_train, X_test, y_train, y_test = train_test_split(X, y, test_size=0.2, random_state=42)\n",
    "\n",
    "# Fit logistic regression model\n",
    "model = LogisticRegression(max_iter=1000)\n",
    "model.fit(X_train, y_train)\n",
    "\n",
    "# Evaluate\n",
    "y_pred = model.predict(X_test)\n",
    "print(classification_report(y_test, y_pred))\n"
   ]
  },
  {
   "cell_type": "code",
   "execution_count": null,
   "id": "19a4d31b-416f-449c-b919-2c6b5e87b88d",
   "metadata": {},
   "outputs": [],
   "source": [
    "# Group by Department and Job Role with mean attrition\n",
    "segment_summary = df.groupby([\"Department\", \"JobRole\"])[\"Attrition\"].value_counts(normalize=True).unstack().fillna(0)\n",
    "\n",
    "# Show the proportion of employees who left\n",
    "segment_summary[\"Attrition Rate\"] = segment_summary[\"Yes\"] * 100\n",
    "segment_summary = segment_summary.sort_values(\"Attrition Rate\", ascending=False)\n",
    "\n",
    "segment_summary[[\"Attrition Rate\"]]\n"
   ]
  },
  {
   "cell_type": "markdown",
   "id": "4e756015-a2d3-4bd9-bb0f-0301405f010a",
   "metadata": {},
   "source": [
    "## 📊 Attrition by Role & Department: Key Insights\n",
    "\n",
    "This table summarizes employee attrition rates segmented by Department and Job Role:\n",
    "\n",
    "| Department           | Job Role                  | Attrition Rate (%) |\n",
    "|----------------------|---------------------------|--------------------|\n",
    "| Sales                | Sales Representative      | **39.76** 🔥        |\n",
    "| R&D                  | Laboratory Technician     | 23.94              |\n",
    "| Human Resources      | Human Resources           | 23.08              |\n",
    "| Sales                | Sales Executive           | 17.48              |\n",
    "| R&D                  | Research Scientist        | 16.10              |\n",
    "| R&D                  | Manufacturing Director    | 6.90               |\n",
    "| R&D                  | Healthcare Representative | 6.87               |\n",
    "| R&D                  | Manager                   | 5.56               |\n",
    "| Sales                | Manager                   | 5.41               |\n",
    "| R&D                  | Research Director         | 2.50               |\n",
    "| Human Resources      | Manager                   | **0.00** ✅         |\n",
    "\n",
    "---\n",
    "\n",
    "### 🎯 Strategic Insights\n",
    "\n",
    "- **Sales Representatives** face the highest attrition rate — nearly 40% — suggesting a critical need for focused intervention.\n",
    "- **Technical roles** (e.g., Lab Technicians, Research Scientists) also have elevated attrition and may require additional support or engagement.\n",
    "- **Leadership roles** (Managers, Directors) generally show **low attrition**, indicating better stability and potentially successful retention practices.\n",
    "\n",
    "---\n",
    "\n",
    "### 💡 Recommendation Areas\n",
    "\n",
    "1. **Sales Representative Retention**\n",
    "   - Review compensation structure, career development, and workload.\n",
    "2. **Technical Talent Retention**\n",
    "   - Evaluate satisfaction drivers like leadership, training, and recognition.\n",
    "3. **Replicate Best Practices**\n",
    "   - Analyze high-performing, low-attrition teams for transferrable lessons.\n"
   ]
  },
  {
   "cell_type": "code",
   "execution_count": null,
   "id": "bdc771d9-11ae-4171-a56d-474ad419387e",
   "metadata": {},
   "outputs": [],
   "source": [
    "import matplotlib.pyplot as plt\n",
    "import seaborn as sns\n",
    "\n",
    "# Set plot style\n",
    "sns.set(style=\"whitegrid\")\n",
    "\n",
    "# Sample: Aggregated attrition rate data (replace if you re-aggregate in code)\n",
    "grouped_data = df.groupby(['Department', 'JobRole'])['Attrition'].apply(lambda x: (x == 'Yes').mean() * 100).reset_index()\n",
    "grouped_data.rename(columns={'Attrition': 'AttritionRate'}, inplace=True)\n",
    "\n",
    "# Plot\n",
    "plt.figure(figsize=(12, 6))\n",
    "sns.barplot(data=grouped_data, x='JobRole', y='AttritionRate', hue='Department', palette='Set2')\n",
    "\n",
    "plt.title(\"Attrition Rate by Job Role and Department\")\n",
    "plt.xticks(rotation=45, ha='right')\n",
    "plt.ylabel(\"Attrition Rate (%)\")\n",
    "plt.xlabel(\"Job Role\")\n",
    "plt.legend(title=\"Department\", bbox_to_anchor=(1.05, 1), loc='upper left')\n",
    "plt.tight_layout()\n",
    "plt.show()\n"
   ]
  },
  {
   "cell_type": "code",
   "execution_count": null,
   "id": "1da69a31-9ac0-4c12-a3b8-389bacf5bffc",
   "metadata": {},
   "outputs": [],
   "source": [
    "plt.savefig(\"attrition_by_role_department.png\", dpi=300, bbox_inches='tight')\n"
   ]
  },
  {
   "cell_type": "code",
   "execution_count": null,
   "id": "150299e3-7d57-48a8-b4fd-15fa8ab69aa2",
   "metadata": {
    "scrolled": true
   },
   "outputs": [],
   "source": [
    "import matplotlib.pyplot as plt\n",
    "import seaborn as sns\n",
    "\n",
    "# Group and prepare data\n",
    "grouped_data = df.groupby(['Department', 'JobRole'])['Attrition'].apply(lambda x: (x == 'Yes').mean() * 100).reset_index()\n",
    "grouped_data.rename(columns={'Attrition': 'AttritionRate'}, inplace=True)\n",
    "\n",
    "# Set plot style\n",
    "sns.set(style=\"whitegrid\")\n",
    "plt.figure(figsize=(12, 6))\n",
    "\n",
    "# Create barplot\n",
    "ax = sns.barplot(data=grouped_data, x='JobRole', y='AttritionRate', hue='Department', palette='Set2')\n",
    "\n",
    "# Set plot details\n",
    "plt.title(\"Attrition Rate by Job Role and Department\")\n",
    "plt.xticks(rotation=45, ha='right')\n",
    "plt.ylabel(\"Attrition Rate (%)\")\n",
    "plt.xlabel(\"Job Role\")\n",
    "plt.legend(title=\"Department\", bbox_to_anchor=(1.05, 1), loc='upper left')\n",
    "plt.tight_layout()\n",
    "\n",
    "# Save and show\n",
    "plt.savefig(\"attrition_by_role_department.png\", dpi=300, bbox_inches='tight')\n",
    "plt.show()\n"
   ]
  },
  {
   "cell_type": "code",
   "execution_count": null,
   "id": "f950c5ee-5a28-4c36-8e44-1b6078b10696",
   "metadata": {},
   "outputs": [],
   "source": [
    "plt.savefig(\"attrition_by_role_department.png\", dpi=300, bbox_inches='tight')\n"
   ]
  },
  {
   "cell_type": "code",
   "execution_count": null,
   "id": "2f9f1c41-a81d-4c0e-8eff-19801b2a7275",
   "metadata": {
    "scrolled": true
   },
   "outputs": [],
   "source": [
    "import matplotlib.pyplot as plt\n",
    "import seaborn as sns\n",
    "\n",
    "# Set the style\n",
    "sns.set(style=\"whitegrid\")\n",
    "\n",
    "# Create the plot\n",
    "plt.figure(figsize=(10, 6))\n",
    "sns.barplot(\n",
    "    data=attrition_by_role.reset_index(),\n",
    "    x=\"Attrition Rate\",\n",
    "    y=\"JobRole\",\n",
    "    hue=\"Department\",\n",
    "    dodge=False,\n",
    "    palette=\"Set2\"\n",
    ")\n",
    "\n",
    "# Add labels\n",
    "plt.title(\"Attrition Rate by Job Role and Department\")\n",
    "plt.xlabel(\"Attrition Rate (%)\")\n",
    "plt.ylabel(\"Job Role\")\n",
    "\n",
    "# ✅ Save BEFORE plt.show()\n",
    "plt.savefig(\"04_Data_Analysis/attrition_by_role_department.png\", dpi=300, bbox_inches='tight')\n",
    "\n",
    "# Show the plot\n",
    "plt.show()\n"
   ]
  },
  {
   "cell_type": "code",
   "execution_count": null,
   "id": "92bb47c9-996c-4919-8156-e403606fb4ca",
   "metadata": {},
   "outputs": [],
   "source": [
    "import matplotlib.pyplot as plt\n",
    "import seaborn as sns\n",
    "\n",
    "# Set the style\n",
    "sns.set(style=\"whitegrid\")\n",
    "\n",
    "# Create the plot\n",
    "plt.figure(figsize=(10, 6))\n",
    "sns.barplot(\n",
    "    data=attrition_by_role.reset_index(),\n",
    "    x=\"Attrition Rate\",\n",
    "    y=\"JobRole\",\n",
    "    hue=\"Department\",\n",
    "    dodge=False,\n",
    "    palette=\"Set2\"\n",
    ")\n",
    "\n",
    "# Add labels\n",
    "plt.title(\"Attrition Rate by Job Role and Department\")\n",
    "plt.xlabel(\"Attrition Rate (%)\")\n",
    "plt.ylabel(\"Job Role\")\n",
    "\n",
    "# ✅ Save BEFORE plt.show()\n",
    "plt.savefig(\"attrition_by_role_department.png\", dpi=300, bbox_inches='tight')\n",
    "\n",
    "# Show the plot\n",
    "plt.show()\n"
   ]
  },
  {
   "cell_type": "code",
   "execution_count": null,
   "id": "919cd18a-af35-4782-9e3a-f0c7c902669b",
   "metadata": {},
   "outputs": [],
   "source": [
    "# Recalculate attrition rate by JobRole and Department\n",
    "attrition_by_role = df[df['Attrition'] == 'Yes'].groupby(\n",
    "    ['Department', 'JobRole']\n",
    ").size().div(\n",
    "    df.groupby(['Department', 'JobRole']).size()\n",
    ").mul(100).reset_index(name='Attrition Rate')\n",
    "\n",
    "# Preview the table\n",
    "attrition_by_role.head()\n"
   ]
  },
  {
   "cell_type": "code",
   "execution_count": null,
   "id": "d3ff4c09-ea79-4ec9-b642-97af6d18e4b2",
   "metadata": {},
   "outputs": [],
   "source": [
    "import matplotlib.pyplot as plt\n",
    "import seaborn as sns\n",
    "\n",
    "sns.set(style=\"whitegrid\")\n",
    "\n",
    "plt.figure(figsize=(10, 6))\n",
    "sns.barplot(\n",
    "    data=attrition_by_role,\n",
    "    x=\"Attrition Rate\",\n",
    "    y=\"JobRole\",\n",
    "    hue=\"Department\",\n",
    "    dodge=False,\n",
    "    palette=\"Set2\"\n",
    ")\n",
    "\n",
    "plt.title(\"Attrition Rate by Job Role and Department\")\n",
    "plt.xlabel(\"Attrition Rate (%)\")\n",
    "plt.ylabel(\"Job Role\")\n",
    "plt.tight_layout()\n",
    "\n",
    "# Save before showing\n",
    "plt.savefig(\"04_Data_Analysis/attrition_by_role_department.png\", dpi=300, bbox_inches='tight')\n",
    "plt.show()\n"
   ]
  },
  {
   "cell_type": "markdown",
   "id": "80da660d-5a63-4cd8-befe-cbbad770f60d",
   "metadata": {},
   "source": [
    "## 📊 Attrition Rate by Job Role and Department\n",
    "\n",
    "This visualization highlights employee attrition trends segmented by both **job role** and **department**.\n",
    "\n",
    "### 🔍 Key Observations:\n",
    "\n",
    "- **Sales Representatives** have the highest attrition rate (~40%), indicating potential dissatisfaction or better external opportunities.\n",
    "- **Laboratory Technicians** and **HR Professionals** also show elevated attrition levels (~24%), suggesting department-specific challenges.\n",
    "- Roles such as **Managers** and **Research Directors** display notably **low attrition**, implying stronger engagement, compensation, or leadership support.\n",
    "- Some roles, like **HR Managers**, had no attrition — possibly due to smaller headcount or stronger retention mechanisms.\n",
    "\n",
    "### 🎯 Strategic Implications:\n",
    "\n",
    "- Prioritize **targeted retention strategies** for high-risk roles like Sales Reps and Lab Techs.\n",
    "- Consider **deep-dives** into compensation, career pathing, and management support for departments with higher attrition.\n",
    "- **Low-attrition roles** can be studied for best practices to replicate elsewhere in the organization.\n",
    "\n",
    "---\n",
    "\n",
    "📁 _Saved to: `04_Data_Analysis/attrition_by_role_department.png`_\n"
   ]
  },
  {
   "cell_type": "code",
   "execution_count": null,
   "id": "18911258-a180-4705-804f-342b9d8ac845",
   "metadata": {},
   "outputs": [],
   "source": [
    "plt.savefig(\"04_Data_Analysis/attrition_by_role_department.png\", dpi=300, bbox_inches='tight')\n",
    "plt.show()\n"
   ]
  },
  {
   "cell_type": "code",
   "execution_count": null,
   "id": "a7c7fc87-4486-4825-a2fa-827d194b6088",
   "metadata": {},
   "outputs": [],
   "source": [
    "import matplotlib.pyplot as plt\n",
    "import seaborn as sns\n",
    "\n",
    "# Restore plot style (optional but nice)\n",
    "sns.set(style=\"whitegrid\")\n"
   ]
  },
  {
   "cell_type": "code",
   "execution_count": null,
   "id": "14e768ec-7783-45b6-bbe6-648b8fe0e49d",
   "metadata": {},
   "outputs": [],
   "source": [
    "plt.figure(figsize=(10, 6))\n",
    "sns.barplot(\n",
    "    data=attrition_by_role.reset_index(),\n",
    "    x=\"Attrition Rate\",\n",
    "    y=\"JobRole\",\n",
    "    hue=\"Department\",\n",
    "    dodge=False,\n",
    "    palette=\"Set2\"\n",
    ")\n",
    "plt.title(\"Attrition Rate by Job Role and Department\")\n",
    "plt.xlabel(\"Attrition Rate (%)\")\n",
    "plt.ylabel(\"Job Role\")\n",
    "\n",
    "# ✅ Save it again (this forces a new timestamp)\n",
    "plt.savefig(\"04_Data_Analysis/attrition_by_role_department.png\", dpi=300, bbox_inches='tight')\n",
    "plt.show()\n"
   ]
  },
  {
   "cell_type": "code",
   "execution_count": null,
   "id": "db33b8c0-02ec-4560-85ad-c409b0ec522e",
   "metadata": {},
   "outputs": [],
   "source": [
    "# Recreate attrition_by_role if it's not in memory\n",
    "attrition_by_role = (\n",
    "    df[df[\"Attrition\"] == \"Yes\"]\n",
    "    .groupby([\"Department\", \"JobRole\"])\n",
    "    .size()\n",
    "    .div(df.groupby([\"Department\", \"JobRole\"]).size())\n",
    "    .reset_index(name=\"Attrition Rate\")\n",
    ")\n"
   ]
  },
  {
   "cell_type": "code",
   "execution_count": null,
   "id": "1c828ab4-acc7-4c71-af15-3fcca04e6323",
   "metadata": {},
   "outputs": [],
   "source": [
    "import pandas as pd\n",
    "\n",
    "df = pd.read_excel(\"mock_data.xlsx\")\n"
   ]
  },
  {
   "cell_type": "code",
   "execution_count": null,
   "id": "cd0ad9a1-d6b7-4084-971f-551fe82a9bb5",
   "metadata": {},
   "outputs": [],
   "source": [
    "import matplotlib.pyplot as plt\n",
    "import seaborn as sns\n"
   ]
  },
  {
   "cell_type": "code",
   "execution_count": null,
   "id": "156f864c-9936-437d-ad5f-c067d36ab465",
   "metadata": {},
   "outputs": [],
   "source": [
    "attrition_by_role = (\n",
    "    df[df[\"Attrition\"] == \"Yes\"]\n",
    "    .groupby([\"Department\", \"JobRole\"])\n",
    "    .size()\n",
    "    .div(df.groupby([\"Department\", \"JobRole\"]).size())\n",
    "    .reset_index(name=\"Attrition Rate\")\n",
    ")\n"
   ]
  },
  {
   "cell_type": "code",
   "execution_count": null,
   "id": "8c31cde9-70fb-4af5-b510-cd7383b2bfde",
   "metadata": {},
   "outputs": [],
   "source": [
    "attrition_by_role.head()\n"
   ]
  },
  {
   "cell_type": "code",
   "execution_count": null,
   "id": "ada3b7a6-e30b-42cd-b40e-2a94430ce821",
   "metadata": {
    "scrolled": true
   },
   "outputs": [],
   "source": [
    "import matplotlib.pyplot as plt\n",
    "import seaborn as sns\n",
    "\n",
    "# Set style\n",
    "sns.set(style=\"whitegrid\")\n",
    "\n",
    "# Create the plot\n",
    "plt.figure(figsize=(10, 6))\n",
    "sns.barplot(\n",
    "    data=attrition_by_role,\n",
    "    x=\"Attrition Rate\",\n",
    "    y=\"JobRole\",\n",
    "    hue=\"Department\",\n",
    "    dodge=False,\n",
    "    palette=\"Set2\"\n",
    ")\n",
    "\n",
    "plt.title(\"Attrition Rate by Job Role and Department\")\n",
    "plt.xlabel(\"Attrition Rate (%)\")\n",
    "plt.ylabel(\"Job Role\")\n",
    "\n",
    "# ✅ Save before displaying\n",
    "plt.savefig(\"04_Data_Analysis/attrition_by_role_department.png\", dpi=300, bbox_inches='tight')\n",
    "\n",
    "plt.show()\n"
   ]
  },
  {
   "cell_type": "code",
   "execution_count": null,
   "id": "135f6a2f-4edd-4317-bfab-a9860dbd0017",
   "metadata": {},
   "outputs": [],
   "source": [
    "import pandas as pd\n",
    "import matplotlib.pyplot as plt\n",
    "import seaborn as sns\n"
   ]
  },
  {
   "cell_type": "code",
   "execution_count": null,
   "id": "20b70f5e-d490-4b8d-ab3a-0ff2ef9c825b",
   "metadata": {},
   "outputs": [],
   "source": [
    "df = pd.read_excel(\"mock_data.xlsx\")\n"
   ]
  },
  {
   "cell_type": "code",
   "execution_count": null,
   "id": "c30075eb-2346-4716-8114-5d9d82644148",
   "metadata": {},
   "outputs": [],
   "source": [
    "attrition_by_role = (\n",
    "    df[df[\"Attrition\"] == \"Yes\"]\n",
    "    .groupby([\"Department\", \"JobRole\"])\n",
    "    .size()\n",
    "    .div(df.groupby([\"Department\", \"JobRole\"]).size())\n",
    "    .reset_index(name=\"Attrition Rate\")\n",
    ")\n"
   ]
  },
  {
   "cell_type": "code",
   "execution_count": null,
   "id": "23d62aec-1615-4891-aef5-b53a41c57df5",
   "metadata": {},
   "outputs": [],
   "source": [
    "sns.set(style=\"whitegrid\")\n",
    "plt.figure(figsize=(10, 6))\n",
    "sns.barplot(\n",
    "    data=attrition_by_role,\n",
    "    x=\"Attrition Rate\",\n",
    "    y=\"JobRole\",\n",
    "    hue=\"Department\",\n",
    "    dodge=False,\n",
    "    palette=\"Set2\"\n",
    ")\n",
    "plt.title(\"Attrition Rate by Job Role and Department\")\n",
    "plt.xlabel(\"Attrition Rate (%)\")\n",
    "plt.ylabel(\"Job Role\")\n",
    "plt.savefig(\"04_Data_Analysis/attrition_by_role_department.png\", dpi=300, bbox_inches='tight')\n",
    "plt.show()\n"
   ]
  },
  {
   "cell_type": "code",
   "execution_count": null,
   "id": "20eadbd8-288a-4dd9-9284-5a3fb781c99c",
   "metadata": {},
   "outputs": [],
   "source": [
    "import os\n",
    "os.getcwd()\n"
   ]
  },
  {
   "cell_type": "code",
   "execution_count": null,
   "id": "a5fbe69a-1bc0-4c5a-a19a-29e7c421e020",
   "metadata": {},
   "outputs": [],
   "source": [
    "os.makedirs(\"04_Data_Analysis\", exist_ok=True)\n"
   ]
  },
  {
   "cell_type": "code",
   "execution_count": null,
   "id": "b5a6132a-1c32-4976-96c8-692a0610e7b2",
   "metadata": {},
   "outputs": [],
   "source": [
    "plt.savefig(\"04_Data_Analysis/attrition_by_role_department.png\", dpi=300, bbox_inches='tight')\n",
    "plt.show()\n"
   ]
  },
  {
   "cell_type": "code",
   "execution_count": null,
   "id": "fae2b85a-3b95-4b4f-ab51-40820b5d2908",
   "metadata": {},
   "outputs": [],
   "source": [
    "plt.savefig(\"attrition_by_role_department.png\", dpi=300, bbox_inches='tight')\n",
    "\n"
   ]
  },
  {
   "cell_type": "code",
   "execution_count": null,
   "id": "3457c5e1-830a-4d36-8fdd-72322d96df59",
   "metadata": {},
   "outputs": [],
   "source": [
    "C:\\Users\\ivana\\Documents\\From-Chaos-to-Clarity\\04_Data_Analysis\n"
   ]
  },
  {
   "cell_type": "code",
   "execution_count": null,
   "id": "dddcfba7-d1ec-4716-ad4d-f7f4eb89a7bb",
   "metadata": {},
   "outputs": [],
   "source": [
    "import os\n",
    "\n",
    "# Set the working directory to the Data Analysis folder\n",
    "os.chdir(r\"C:\\Users\\ivana\\Documents\\From-Chaos-to-Clarity\\04_Data_Analysis\")\n",
    "\n",
    "# Confirm it's correct\n",
    "print(\"Current working directory:\", os.getcwd())\n"
   ]
  },
  {
   "cell_type": "code",
   "execution_count": null,
   "id": "2317feda-9ed8-4133-9d59-eefa565cb9a5",
   "metadata": {},
   "outputs": [],
   "source": [
    "plt.savefig(\"attrition_by_role_department.png\", dpi=300, bbox_inches='tight')\n",
    "plt.show()\n"
   ]
  },
  {
   "cell_type": "code",
   "execution_count": null,
   "id": "1bbccc95-a986-4a57-862b-f73b46e94d43",
   "metadata": {},
   "outputs": [],
   "source": [
    "import os\n",
    "\n",
    "# Set working directory to the project root (adjust if needed)\n",
    "project_root = \"C:/Users/ivana/Documents/From-Chaos-to-Clarity\"\n",
    "data_folder = os.path.join(project_root, \"04_Data_Analysis\")\n",
    "os.makedirs(data_folder, exist_ok=True)\n",
    "os.chdir(data_folder)\n",
    "\n",
    "# Confirm location\n",
    "print(\"Current working directory:\", os.getcwd())\n"
   ]
  },
  {
   "cell_type": "code",
   "execution_count": null,
   "id": "7616f1e6-f240-4783-b42c-b5573ee77289",
   "metadata": {
    "scrolled": true
   },
   "outputs": [],
   "source": [
    "plt.savefig(\"attrition_by_role_department.png\", dpi=300, bbox_inches='tight')\n"
   ]
  },
  {
   "cell_type": "code",
   "execution_count": null,
   "id": "4da1eb5d-e607-4211-9d56-f1128a1867cf",
   "metadata": {},
   "outputs": [],
   "source": [
    "import pandas as pd\n",
    "import matplotlib.pyplot as plt\n",
    "import seaborn as sns\n",
    "\n",
    "sns.set(style=\"whitegrid\")\n"
   ]
  },
  {
   "cell_type": "code",
   "execution_count": null,
   "id": "87e7a349-bdf0-4e46-8fb2-15a3ebdcba90",
   "metadata": {},
   "outputs": [],
   "source": [
    "df = pd.read_excel(\"mock_data.xlsx\")\n"
   ]
  },
  {
   "cell_type": "code",
   "execution_count": null,
   "id": "1e59272b-3f6b-4924-aa14-1965b5a0a874",
   "metadata": {},
   "outputs": [],
   "source": [
    "attrition_by_role = (\n",
    "    df[df[\"Attrition\"] == \"Yes\"]\n",
    "    .groupby([\"Department\", \"JobRole\"])\n",
    "    .size()\n",
    "    .div(df.groupby([\"Department\", \"JobRole\"]).size())\n",
    "    .reset_index(name=\"Attrition Rate\")\n",
    ")\n"
   ]
  },
  {
   "cell_type": "code",
   "execution_count": null,
   "id": "6b38b6d6-f809-48d6-9b8d-8c86096492c3",
   "metadata": {},
   "outputs": [],
   "source": [
    "plt.figure(figsize=(10, 6))\n",
    "sns.barplot(\n",
    "    data=attrition_by_role,\n",
    "    x=\"Attrition Rate\",\n",
    "    y=\"JobRole\",\n",
    "    hue=\"Department\",\n",
    "    dodge=False,\n",
    "    palette=\"Set2\"\n",
    ")\n",
    "\n",
    "plt.title(\"Attrition Rate by Job Role and Department\")\n",
    "plt.xlabel(\"Attrition Rate (%)\")\n",
    "plt.ylabel(\"Job Role\")\n",
    "\n",
    "# ✅ Save the plot\n",
    "plt.savefig(\"attrition_by_role_department.png\", dpi=300, bbox_inches=\"tight\")\n",
    "\n",
    "# Show the plot in Jupyter\n",
    "plt.show()\n"
   ]
  },
  {
   "cell_type": "markdown",
   "id": "5dec57db-33fa-45ee-bdaf-45774f916f94",
   "metadata": {},
   "source": [
    "### 📊 Attrition Rate by Job Role and Department\n",
    "\n",
    "This visualization illustrates attrition patterns segmented by both **Job Role** and **Department**. It helps pinpoint roles with elevated turnover risk and informs targeted retention strategies.\n",
    "\n",
    "#### 🔍 Key Observations:\n",
    "- **Sales Representatives** show the highest attrition rate (~40%), suggesting dissatisfaction, burnout, or better external opportunities.\n",
    "- **Laboratory Technicians** and **HR Professionals** also exhibit high attrition (~24%), indicating possible role-specific or cultural challenges.\n",
    "- **Managerial roles** (e.g., Research Director, Manager) have low attrition rates, potentially due to higher compensation, engagement, or growth opportunities.\n",
    "- Some roles (e.g., HR Managers) show **zero attrition**, though these may reflect small sample sizes.\n",
    "\n",
    "#### 🎯 Strategic Implications:\n",
    "- **Targeted retention efforts** should focus on high-risk roles like Sales Reps and Lab Techs.\n",
    "- **Deep-dive analyses** may be warranted into job satisfaction, leadership, and career pathing within high-attrition departments.\n",
    "- **Low-attrition roles** can be studied for best practices to replicate success across teams.\n",
    "\n",
    "🖼 **Image saved as:** `04_Data_Analysis/attrition_by_role_department.png`\n"
   ]
  },
  {
   "cell_type": "markdown",
   "id": "f047d42e-1da5-47d9-999f-31ee4849d3ba",
   "metadata": {},
   "source": [
    "### 📊 Attrition Rate by Job Role and Department\n",
    "\n",
    "This visualization illustrates attrition patterns segmented by both **Job Role** and **Department**. It helps pinpoint roles with elevated turnover risk and informs targeted retention strategies.\n",
    "\n",
    "![Attrition Chart](attrition_by_role_department.png)\n",
    "\n",
    "#### 🔍 Key Observations:\n",
    "- **Sales Representatives** show the highest attrition rate (~40%), suggesting dissatisfaction, burnout, or better external opportunities.\n",
    "- **Laboratory Technicians** and **HR Professionals** also exhibit high attrition (~24%), indicating possible role-specific or cultural challenges.\n",
    "- **Managerial roles** (e.g., Research Director, Manager) have low attrition rates, potentially due to higher compensation, engagement, or growth opportunities.\n",
    "- Some roles (e.g., HR Managers) show **zero attrition**, though these may reflect small sample sizes.\n",
    "\n",
    "#### 🎯 Strategic Implications:\n",
    "- **Targeted retention efforts** should focus on high-risk roles like Sales Reps and Lab Techs.\n",
    "- **Deep-dive analyses** may be warranted into job satisfaction, leadership, and career pathing within high-attrition departments.\n",
    "- **Low-attrition roles** can be studied for best practices to replicate success across teams.\n"
   ]
  },
  {
   "cell_type": "code",
   "execution_count": null,
   "id": "6e8d21ae-2871-48ba-81d7-e7ccb66cacd1",
   "metadata": {},
   "outputs": [],
   "source": []
  }
 ],
 "metadata": {
  "kernelspec": {
   "display_name": "Python 3 (ipykernel)",
   "language": "python",
   "name": "python3"
  },
  "language_info": {
   "codemirror_mode": {
    "name": "ipython",
    "version": 3
   },
   "file_extension": ".py",
   "mimetype": "text/x-python",
   "name": "python",
   "nbconvert_exporter": "python",
   "pygments_lexer": "ipython3",
   "version": "3.13.3"
  }
 },
 "nbformat": 4,
 "nbformat_minor": 5
}
